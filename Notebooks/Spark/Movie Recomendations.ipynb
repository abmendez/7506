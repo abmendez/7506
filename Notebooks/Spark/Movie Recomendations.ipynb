{
 "cells": [
  {
   "cell_type": "markdown",
   "metadata": {},
   "source": [
    "# **Movie Recommendations**\n",
    "![ML Logo](http://images.huffingtonpost.com/2016-06-23-1466705986-1144339-netflix31200x630c.jpg)\n",
    "\n",
    "En este notebook intentaremos construir un sistema de recomendaciones simples en base a califiaciones de usuarios a peliculas."
   ]
  },
  {
   "cell_type": "code",
   "execution_count": 1,
   "metadata": {
    "collapsed": false
   },
   "outputs": [
    {
     "name": "stdout",
     "output_type": "stream",
     "text": [
      "There are 487650 ratings and 3883 movies in the datasets\n",
      "Ratings: [(1, 1193, 5.0), (1, 914, 3.0), (1, 2355, 5.0)]\n",
      "Movies: [(1, u'Toy Story (1995)'), (2, u'Jumanji (1995)'), (3, u'Grumpier Old Men (1995)')]\n"
     ]
    }
   ],
   "source": [
    "# Get the data\n",
    "numPartitions = 2\n",
    "rawRatings = sc.textFile('data/movies/ratings.dat').repartition(numPartitions)\n",
    "rawMovies = sc.textFile('data/movies/movies.dat')\n",
    "\n",
    "def get_ratings_tuple(entry):\n",
    "    # input UserID::MovieID::Rating::Timestamp\n",
    "    # returns  tuple: (UserID, MovieID, Rating)\n",
    "    items = entry.split('::')\n",
    "    return int(items[0]), int(items[1]), float(items[2])\n",
    "\n",
    "def get_movie_tuple(entry):\n",
    "    # in    entry (str): a line in the movies dataset in the form of MovieID::Title::Genres\n",
    "    #Returns:  tuple: (MovieID, Title)\n",
    "    items = entry.split('::')\n",
    "    return int(items[0]), items[1]\n",
    "\n",
    "\n",
    "ratingsRDD = rawRatings.map(get_ratings_tuple).cache()\n",
    "moviesRDD = rawMovies.map(get_movie_tuple).cache()\n",
    "\n",
    "ratingsCount = ratingsRDD.count()\n",
    "moviesCount = moviesRDD.count()\n",
    "\n",
    "print 'There are %s ratings and %s movies in the datasets' % (ratingsCount, moviesCount)\n",
    "print 'Ratings: %s' % ratingsRDD.take(3)\n",
    "print 'Movies: %s' % moviesRDD.take(3)"
   ]
  },
  {
   "cell_type": "markdown",
   "metadata": {},
   "source": [
    "## Movies with Highest Average Ratings"
   ]
  },
  {
   "cell_type": "code",
   "execution_count": 3,
   "metadata": {
    "collapsed": true
   },
   "outputs": [],
   "source": [
    "# First, implement a helper function `getCountsAndAverages` using only Python\n",
    "def getCountsAndAverages(IDandRatingsTuple):\n",
    "    #input  IDandRatingsTuple: a single tuple of (MovieID, (Rating1, Rating2, Rating3, ...))\n",
    "    # returns a tuple of (MovieID, (number of ratings, averageRating))\n",
    "    total = sum(IDandRatingsTuple[1])\n",
    "    count = len(IDandRatingsTuple[1])\n",
    "    return ((IDandRatingsTuple[0],(count,float(total)/count)))"
   ]
  },
  {
   "cell_type": "code",
   "execution_count": 4,
   "metadata": {
    "collapsed": true
   },
   "outputs": [],
   "source": [
    "# From ratingsRDD with tuples of (UserID, MovieID, Rating) create an RDD with tuples of\n",
    "# the (MovieID, iterable of Ratings for that MovieID)\n",
    "movieIDsWithRatingsRDD = (ratingsRDD\n",
    "                          .map(lambda x:(x[1],x[2]))\n",
    "                          .groupByKey())\n",
    "\n",
    "# Using `movieIDsWithRatingsRDD`, compute the number of ratings and average rating for each movie to\n",
    "# yield tuples of the form (MovieID, (number of ratings, average rating))\n",
    "movieIDsWithAvgRatingsRDD = movieIDsWithRatingsRDD.map(lambda x:getCountsAndAverages(x))\n",
    "\n",
    "# To `movieIDsWithAvgRatingsRDD`, apply RDD transformations that use `moviesRDD` to get the movie\n",
    "# names for `movieIDsWithAvgRatingsRDD`, yielding tuples of the form\n",
    "# (average rating, movie name, number of ratings)\n",
    "movieNameWithAvgRatingsRDD = (moviesRDD\n",
    "                              .join(movieIDsWithAvgRatingsRDD)\n",
    "                              .map(lambda x:(x[1][1][1],x[1][0],x[1][1][0])))"
   ]
  },
  {
   "cell_type": "code",
   "execution_count": 9,
   "metadata": {
    "collapsed": false
   },
   "outputs": [
    {
     "name": "stdout",
     "output_type": "stream",
     "text": [
      "(4.5349264705882355, u'Shawshank Redemption, The (1994)', 1088)\n",
      "(4.515798462852263, u\"Schindler's List (1993)\", 1171)\n",
      "(4.512893982808023, u'Godfather, The (1972)', 1047)\n",
      "(4.510460251046025, u'Raiders of the Lost Ark (1981)', 1195)\n",
      "(4.505415162454874, u'Usual Suspects, The (1995)', 831)\n",
      "(4.457256461232604, u'Rear Window (1954)', 503)\n",
      "(4.45468509984639, u'Dr. Strangelove or: How I Learned to Stop Worrying and Love the Bomb (1963)', 651)\n",
      "(4.43953006219765, u'Star Wars: Episode IV - A New Hope (1977)', 1447)\n",
      "(4.4, u'Sixth Sense, The (1999)', 1110)\n",
      "(4.394285714285714, u'North by Northwest (1959)', 700)\n",
      "(4.379506641366224, u'Citizen Kane (1941)', 527)\n",
      "(4.375, u'Casablanca (1942)', 776)\n",
      "(4.363975155279503, u'Godfather: Part II, The (1974)', 805)\n",
      "(4.358816276202219, u\"One Flew Over the Cuckoo's Nest (1975)\", 811)\n",
      "(4.358173076923077, u'Silence of the Lambs, The (1991)', 1248)\n",
      "(4.335826477187734, u'Saving Private Ryan (1998)', 1337)\n",
      "(4.326241134751773, u'Chinatown (1974)', 564)\n",
      "(4.325383304940375, u'Life Is Beautiful (La Vita \\ufffd bella) (1997)', 587)\n",
      "(4.324110671936759, u'Monty Python and the Holy Grail (1974)', 759)\n",
      "(4.3096, u'Matrix, The (1999)', 1250)\n"
     ]
    }
   ],
   "source": [
    "def sortFunction(tuple):\n",
    "    # input tuple: (rating, MovieName)\n",
    "    #  sortString: the value to sort with, 'rating MovieName'\n",
    "    key = unicode('%.3f' % tuple[0])\n",
    "    value = tuple[1]\n",
    "    return (key + ' ' + value)\n",
    "\n",
    "\n",
    "# Movies with highest Average Ratings and more than 500 reviews\n",
    "# Apply an RDD transformation to `movieNameWithAvgRatingsRDD` to limit the results to movies with\n",
    "# ratings from more than 500 people. We then use the `sortFunction()` helper function to sort by the\n",
    "# average rating to get the movies in order of their rating (highest rating first)\n",
    "movieLimitedAndSortedByRatingRDD = (movieNameWithAvgRatingsRDD\n",
    "                                    .filter(lambda x:x[2]>500)\n",
    "                                    .sortBy(sortFunction, False))\n",
    "\n",
    "for mv in movieLimitedAndSortedByRatingRDD.take(20):\n",
    "    print mv"
   ]
  },
  {
   "cell_type": "markdown",
   "metadata": {},
   "source": [
    "## **Part 2: Collaborative Filtering**\n",
    "![collaborative filtering](https://courses.edx.org/c4x/BerkeleyX/CS100.1x/asset/Collaborative_filtering.gif)\n",
    "[mllib]: https://spark.apache.org/mllib/\n",
    "[collab]: https://en.wikipedia.org/?title=Collaborative_filtering\n",
    "[collab2]: http://recommender-systems.org/collaborative-filtering/"
   ]
  },
  {
   "cell_type": "code",
   "execution_count": 10,
   "metadata": {
    "collapsed": false
   },
   "outputs": [
    {
     "name": "stdout",
     "output_type": "stream",
     "text": [
      "Training: 292716, validation: 96902, test: 98032\n",
      "\n",
      "[(1, 914, 3.0), (1, 2355, 5.0), (1, 595, 5.0)]\n",
      "[(1, 1287, 5.0), (1, 594, 4.0), (1, 1270, 5.0)]\n",
      "[(1, 1193, 5.0), (1, 2398, 4.0), (1, 1035, 5.0)]\n"
     ]
    }
   ],
   "source": [
    "# Split Data in Train, Validation and Test Sets\n",
    "trainingRDD, validationRDD, testRDD = ratingsRDD.randomSplit([6, 2, 2], seed=0L)\n",
    "\n",
    "print 'Training: %s, validation: %s, test: %s\\n' % (trainingRDD.count(),\n",
    "                                                    validationRDD.count(),\n",
    "                                                    testRDD.count())\n",
    "print trainingRDD.take(3)\n",
    "print validationRDD.take(3)\n",
    "print testRDD.take(3)"
   ]
  },
  {
   "cell_type": "code",
   "execution_count": 11,
   "metadata": {
    "collapsed": false
   },
   "outputs": [
    {
     "name": "stdout",
     "output_type": "stream",
     "text": [
      "Error for test dataset (should be 1.22474487139): 1.22474487139\n",
      "Error for test dataset2 (should be 3.16227766017): 3.16227766017\n",
      "Error for testActual dataset (should be 0.0): 0.0\n"
     ]
    }
   ],
   "source": [
    "# RMSE as our metric error\n",
    "import math\n",
    "\n",
    "def computeError(predictedRDD, actualRDD):\n",
    "    # input  predictedRDD: (UserID, MovieID, Rating)\n",
    "    #       actualRDD:  (UserID, MovieID, Rating)\n",
    "    # Returns:  RSME (float): computed RSME value\n",
    "\n",
    "    # Transform predictedRDD into the tuples of the form ((UserID, MovieID), Rating)\n",
    "    predictedReformattedRDD = predictedRDD.map(lambda x:((x[0],x[1]),x[2]))\n",
    "\n",
    "    # Transform actualRDD into the tuples of the form ((UserID, MovieID), Rating)\n",
    "    actualReformattedRDD = actualRDD.map(lambda x:((x[0],x[1]),x[2]))\n",
    "\n",
    "    # Compute the squared error for each matching entry (i.e., the same (User ID, Movie ID) in each\n",
    "    # RDD) in the reformatted RDDs using RDD transformtions - do not use collect()\n",
    "    squaredErrorsRDD = (predictedReformattedRDD\n",
    "                        .join(actualReformattedRDD)\n",
    "                        .map(lambda x:abs(x[1][0]-x[1][1])**2)\n",
    "                        )\n",
    "    # Compute the total squared error \n",
    "    totalError = squaredErrorsRDD.reduce(lambda x,y:x+y)\n",
    "\n",
    "    # Count the number of entries for which you computed the total squared error\n",
    "    numRatings = squaredErrorsRDD.count()\n",
    "    # Using the total squared error and the number of entries, compute the RSME\n",
    "    return math.sqrt((float(totalError)/numRatings))\n",
    "\n",
    "\n",
    "# sc.parallelize turns a Python list into a Spark RDD.\n",
    "testPredicted = sc.parallelize([\n",
    "    (1, 1, 5),\n",
    "    (1, 2, 3),\n",
    "    (1, 3, 4),\n",
    "    (2, 1, 3),\n",
    "    (2, 2, 2),\n",
    "    (2, 3, 4)])\n",
    "testActual = sc.parallelize([\n",
    "     (1, 2, 3),\n",
    "     (1, 3, 5),\n",
    "     (2, 1, 5),\n",
    "     (2, 2, 1)])\n",
    "testPredicted2 = sc.parallelize([\n",
    "     (2, 2, 5),\n",
    "     (1, 2, 5)])\n",
    "testError = computeError(testPredicted, testActual)\n",
    "print 'Error for test dataset (should be 1.22474487139): %s' % testError\n",
    "\n",
    "testError2 = computeError(testPredicted2, testActual)\n",
    "print 'Error for test dataset2 (should be 3.16227766017): %s' % testError2\n",
    "\n",
    "testError3 = computeError(testActual, testActual)\n",
    "print 'Error for testActual dataset (should be 0.0): %s' % testError3"
   ]
  },
  {
   "cell_type": "markdown",
   "metadata": {},
   "source": [
    "## ALS for Matrix Factorization"
   ]
  },
  {
   "cell_type": "code",
   "execution_count": 14,
   "metadata": {
    "collapsed": false
   },
   "outputs": [
    {
     "name": "stdout",
     "output_type": "stream",
     "text": [
      "The average rating for movies in the training set is 3.57409571052\n",
      "Baseline RMSE on the test set is 1.12036693569\n"
     ]
    }
   ],
   "source": [
    "# A Baseline!\n",
    "trainingAvgRating = float(trainingRDD.map(lambda x:x[2]).reduce(lambda x,y:x+y)) / trainingRDD.count()\n",
    "print 'The average rating for movies in the training set is %s' % trainingAvgRating\n",
    "\n",
    "testForAvgRDD = testRDD.map(lambda x:(x[0],x[1],trainingAvgRating))\n",
    "testAvgRMSE = computeError(testRDD, testForAvgRDD)\n",
    "print 'Baseline RMSE on the test set is %s' % testAvgRMSE"
   ]
  },
  {
   "cell_type": "code",
   "execution_count": 12,
   "metadata": {
    "collapsed": false
   },
   "outputs": [
    {
     "name": "stdout",
     "output_type": "stream",
     "text": [
      "For rank 4 the RMSE is 0.892734779484\n",
      "For rank 8 the RMSE is 0.890121292255\n",
      "For rank 12 the RMSE is 0.890216118367\n",
      "The best model was trained with rank 8\n"
     ]
    }
   ],
   "source": [
    "from pyspark.mllib.recommendation import ALS\n",
    "\n",
    "\n",
    "validationForPredictRDD = validationRDD.map(lambda x:(x[0],x[1]))\n",
    "\n",
    "seed = 42 # What else? Are you kidding me?\n",
    "iterations = 5\n",
    "regularizationParameter = 0.1\n",
    "ranks = [4, 8, 12]\n",
    "errors = [0, 0, 0]\n",
    "err = 0\n",
    "tolerance = 0.02\n",
    "\n",
    "minError = float('inf')\n",
    "bestRank = -1\n",
    "bestIteration = -1\n",
    "for rank in ranks:\n",
    "    model = ALS.train(trainingRDD, rank, seed=seed, iterations=iterations,\n",
    "                      lambda_=regularizationParameter)\n",
    "    predictedRatingsRDD = model.predictAll(validationForPredictRDD)\n",
    "    error = computeError(predictedRatingsRDD, validationRDD)\n",
    "    errors[err] = error\n",
    "    err += 1\n",
    "    print 'For rank %s the RMSE is %s' % (rank, error)\n",
    "    if error < minError:\n",
    "        minError = error\n",
    "        bestRank = rank\n",
    "\n",
    "print 'The best model was trained with rank %s' % bestRank"
   ]
  },
  {
   "cell_type": "code",
   "execution_count": 13,
   "metadata": {
    "collapsed": false
   },
   "outputs": [
    {
     "name": "stdout",
     "output_type": "stream",
     "text": [
      "The model had a RMSE on the test set of 0.891048561304\n"
     ]
    }
   ],
   "source": [
    "# Try this on the test set\n",
    "myModel = ALS.train(trainingRDD, bestRank, seed=seed, iterations=iterations,\n",
    "                      lambda_=regularizationParameter)\n",
    "testForPredictingRDD = testRDD.map(lambda x:(x[0],x[1]))\n",
    "predictedTestRDD = myModel.predictAll(testForPredictingRDD)\n",
    "\n",
    "testRMSE = computeError(testRDD, predictedTestRDD)\n",
    "\n",
    "print 'The model had a RMSE on the test set of %s' % testRMSE"
   ]
  },
  {
   "cell_type": "markdown",
   "metadata": {},
   "source": [
    "## Create our Own Recommendations"
   ]
  },
  {
   "cell_type": "code",
   "execution_count": 15,
   "metadata": {
    "collapsed": false
   },
   "outputs": [
    {
     "name": "stdout",
     "output_type": "stream",
     "text": [
      "Most rated movies:\n",
      "(0, 318, 4.5349264705882355, u'Shawshank Redemption, The (1994)')\n",
      "(0, 527, 4.515798462852263, u\"Schindler's List (1993)\")\n",
      "(0, 858, 4.512893982808023, u'Godfather, The (1972)')\n",
      "(0, 1198, 4.510460251046025, u'Raiders of the Lost Ark (1981)')\n",
      "(0, 50, 4.505415162454874, u'Usual Suspects, The (1995)')\n",
      "(0, 904, 4.457256461232604, u'Rear Window (1954)')\n",
      "(0, 750, 4.45468509984639, u'Dr. Strangelove or: How I Learned to Stop Worrying and Love the Bomb (1963)')\n",
      "(0, 260, 4.43953006219765, u'Star Wars: Episode IV - A New Hope (1977)')\n",
      "(0, 2762, 4.4, u'Sixth Sense, The (1999)')\n",
      "(0, 908, 4.394285714285714, u'North by Northwest (1959)')\n",
      "(0, 923, 4.379506641366224, u'Citizen Kane (1941)')\n",
      "(0, 912, 4.375, u'Casablanca (1942)')\n",
      "(0, 1221, 4.363975155279503, u'Godfather: Part II, The (1974)')\n",
      "(0, 1193, 4.358816276202219, u\"One Flew Over the Cuckoo's Nest (1975)\")\n",
      "(0, 593, 4.358173076923077, u'Silence of the Lambs, The (1991)')\n",
      "(0, 2028, 4.335826477187734, u'Saving Private Ryan (1998)')\n",
      "(0, 1252, 4.326241134751773, u'Chinatown (1974)')\n",
      "(0, 2324, 4.325383304940375, u'Life Is Beautiful (La Vita \\ufffd bella) (1997)')\n",
      "(0, 1136, 4.324110671936759, u'Monty Python and the Holy Grail (1974)')\n",
      "(0, 2571, 4.3096, u'Matrix, The (1999)')\n",
      "(0, 1196, 4.309457579972183, u'Star Wars: Episode V - The Empire Strikes Back (1980)')\n",
      "(0, 1278, 4.30379746835443, u'Young Frankenstein (1974)')\n",
      "(0, 1219, 4.301346801346801, u'Psycho (1960)')\n",
      "(0, 296, 4.296438883541867, u'Pulp Fiction (1994)')\n",
      "(0, 608, 4.286535303776683, u'Fargo (1996)')\n",
      "(0, 1213, 4.282367447595561, u'GoodFellas (1990)')\n",
      "(0, 2858, 4.27943661971831, u'American Beauty (1999)')\n",
      "(0, 919, 4.268053855569155, u'Wizard of Oz, The (1939)')\n",
      "(0, 1197, 4.267774699907664, u'Princess Bride, The (1987)')\n",
      "(0, 1247, 4.253333333333333, u'Graduate, The (1967)')\n",
      "(0, 2692, 4.236263736263736, u'Run Lola Run (Lola rennt) (1998)')\n",
      "(0, 1225, 4.233807266982622, u'Amadeus (1984)')\n",
      "(0, 3114, 4.232558139534884, u'Toy Story 2 (1999)')\n",
      "(0, 1288, 4.232558139534884, u'This Is Spinal Tap (1984)')\n",
      "(0, 3897, 4.228494623655914, u'Almost Famous (2000)')\n",
      "(0, 2804, 4.2250755287009065, u'Christmas Story, A (1983)')\n",
      "(0, 1242, 4.216757741347905, u'Glory (1989)')\n",
      "(0, 1208, 4.213358070500927, u'Apocalypse Now (1979)')\n",
      "(0, 1617, 4.20992028343667, u'L.A. Confidential (1997)')\n",
      "(0, 541, 4.204733727810651, u'Blade Runner (1982)')\n",
      "(0, 1358, 4.1886120996441285, u'Sling Blade (1996)')\n",
      "(0, 110, 4.184615384615385, u'Braveheart (1995)')\n",
      "(0, 1304, 4.184168012924071, u'Butch Cassidy and the Sundance Kid (1969)')\n",
      "(0, 1704, 4.182509505703422, u'Good Will Hunting (1997)')\n",
      "(0, 111, 4.166969147005445, u'Taxi Driver (1976)')\n",
      "(0, 1240, 4.162767039674466, u'Terminator, The (1984)')\n",
      "(0, 1089, 4.157545605306799, u'Reservoir Dogs (1992)')\n",
      "(0, 1387, 4.153333333333333, u'Jaws (1975)')\n",
      "(0, 1214, 4.149840595111583, u'Alien (1979)')\n",
      "(0, 1, 4.145015105740181, u'Toy Story (1995)')\n"
     ]
    }
   ],
   "source": [
    "# We start with the most popular movies\n",
    "movieLimitedAndSortedByRatingRDD12 = (moviesRDD\n",
    "                              .join(movieIDsWithAvgRatingsRDD)\n",
    "                              .filter(lambda x:x[1][1][0]>500)\n",
    "                              .map(lambda x:(0,x[0],x[1][1][1],x[1][0]))\n",
    "                              .sortBy(lambda x:x[2],False))\n",
    "print 'Most rated movies:'\n",
    "#print '(average rating, movie name, number of reviews)'\n",
    "for ratingsTuple in movieLimitedAndSortedByRatingRDD12.take(50):\n",
    "    print ratingsTuple\n"
   ]
  },
  {
   "cell_type": "code",
   "execution_count": 22,
   "metadata": {
    "collapsed": false
   },
   "outputs": [
    {
     "name": "stdout",
     "output_type": "stream",
     "text": [
      "My movie ratings: [(0, 318, 5), (0, 527, 3.8), (0, 858, 3), (0, 1198, 3.5), (0, 50, 4), (0, 904, 2), (0, 750, 2), (0, 260, 5), (0, 2762, 1), (0, 908, 2)]\n"
     ]
    }
   ],
   "source": [
    "# We insert our rankings (the user 0 is never used in the dataset)\n",
    "myUserID = 0\n",
    "\n",
    "# Note that the movie IDs are the *last* number on each line. A common error was to use the number of ratings as the movie ID.\n",
    "myRatedMovies = [\n",
    "    (0, 318,5), #Shawshank Redemption\n",
    "    (0, 527, 3.8), # Schindler's List\n",
    "    (0, 858, 3), # Godfather, The\n",
    "    (0, 1198, 3.5), # Raiders of the Lost Ark\n",
    "    (0, 50, 4), # Usual Suspects, The\n",
    "    (0, 904, 2), # Rear Window (1954)\n",
    "    (0, 750, 2), # Dr. Strangelove or: How I Learned to Stop Worrying and Love the Bomb (1963)\n",
    "    (0, 260, 5), # Star Wars: Episode IV \n",
    "    (0, 2762, 1), #Sixth Sense\n",
    "    (0, 908, 2), # North by Northwest (1959)\n",
    "    (0, 923, 2), # Citizen Kane (1941)\n",
    "    (0, 912, 1.5), # Casablanca (1942)\n",
    "    (0, 1221, 3.2), #Godfather: Part II,\n",
    "    (0, 1193, 3), # One Flew Over the Cuckoo's Nest\n",
    "    (0, 593, 5), # Silence of the Lambs, \n",
    "    (0, 2028, 3), # Saving Private Ryan\n",
    "    (0, 1252, 2), # Chinatown \n",
    "    (0, 2324, 2), #Life Is Beautiful (La Vita \\ufffd bella)\n",
    "    (0, 1136, 1), #Monty Python and the Holy Grail\n",
    "    (0, 2571, 5), #Matrix\n",
    "    (0, 1196, 5), #Star Wars: Episode V \n",
    "    (0, 1278, 1), #Young Frankenstein\n",
    "    (0, 1219, 2), #Psycho\n",
    "    (0, 296, 5), #Pulp Fiction\n",
    "    (0, 608, 5), #Fargo\n",
    "    (0, 1213, 3.44),#GoodFellas\n",
    "    (0, 2858, 2.2),#American Beauty\n",
    "    (0, 919, 1),#Wizard of Oz\n",
    "    (0, 1197, 1),#Princess Bride, The\n",
    "    (0, 1247, 1),#Graduate, The \n",
    "    (0, 2692, 2.5),#Run Lola Run \n",
    "    (0, 1225, 1),#Amadeus \n",
    "    (0, 3114, 3),#Toy Story 2\n",
    "    (0, 1288, 2),#This Is Spinal Tap\n",
    "    (0, 3897, 2),#Almost Famous \n",
    "    (0, 2804, 2),#Christmas Story\n",
    "    (0, 1242, 2),#Glory (1989)\n",
    "    (0, 1208, 3),#Apocalypse Now\n",
    "    (0, 1617, 2),#L.A. Confidential\n",
    "    (0, 541, 4.2),#Blade Runner\n",
    "    (0, 1358, 3),#Sling Blade\n",
    "    (0, 110, 1),#Braveheart (1995)\n",
    "    (0, 1304, 2),#Butch Cassidy and the Sundance Kid \n",
    "    (0, 1704, 2),#Good Will Hunting \n",
    "    (0, 111, 4),#Taxi Driver \n",
    "    (0, 1240, 4.5),#Terminator\n",
    "    (0, 1089,3),#Reservoir Dogs\n",
    "    (0, 1387, 4),#Jaws\n",
    "    (0, 1214, 4.6),#Alien\n",
    "     (0, 1, 3) #Toy Story\n",
    "     # The format of each line is (myUserID, movie ID, your rating)\n",
    "     # For example, to give the movie \"Star Wars: Episode IV - A New Hope (1977)\" a five rating, you would add the following line:\n",
    "     #   (myUserID, 260, 5),\n",
    "    ]\n",
    "myRatingsRDD = sc.parallelize(myRatedMovies)\n",
    "print 'My movie ratings: %s' % myRatingsRDD.take(10)"
   ]
  },
  {
   "cell_type": "code",
   "execution_count": 17,
   "metadata": {
    "collapsed": false
   },
   "outputs": [
    {
     "name": "stdout",
     "output_type": "stream",
     "text": [
      "The training dataset now has 50 more entries than the original training dataset\n"
     ]
    }
   ],
   "source": [
    "# Add this to the training set\n",
    "trainingWithMyRatingsRDD = trainingRDD.union(myRatingsRDD)\n",
    "\n",
    "print ('The training dataset now has %s more entries than the original training dataset' %\n",
    "       (trainingWithMyRatingsRDD.count() - trainingRDD.count()))\n",
    "assert (trainingWithMyRatingsRDD.count() - trainingRDD.count()) == myRatingsRDD.count()"
   ]
  },
  {
   "cell_type": "code",
   "execution_count": 18,
   "metadata": {
    "collapsed": true
   },
   "outputs": [],
   "source": [
    "# Train ALS with the new training set\n",
    "myRatingsModel = ALS.train(trainingWithMyRatingsRDD, bestRank,seed=seed, iterations=iterations, lambda_=regularizationParameter)"
   ]
  },
  {
   "cell_type": "code",
   "execution_count": 19,
   "metadata": {
    "collapsed": false
   },
   "outputs": [
    {
     "name": "stdout",
     "output_type": "stream",
     "text": [
      "[Rating(user=1377, product=384, rating=2.2394562275265586), Rating(user=2909, product=384, rating=3.510252226522553)]\n",
      "The model had a RMSE on the test set of 0.891827923332\n"
     ]
    }
   ],
   "source": [
    "# Check RMSE\n",
    "predictedTestMyRatingsRDD = myRatingsModel.predictAll(testForPredictingRDD)\n",
    "print predictedTestMyRatingsRDD.take(2)\n",
    "testRMSEMyRatings = computeError(testRDD, predictedTestMyRatingsRDD)\n",
    "print 'The model had a RMSE on the test set of %s' % testRMSEMyRatings"
   ]
  },
  {
   "cell_type": "code",
   "execution_count": 20,
   "metadata": {
    "collapsed": true
   },
   "outputs": [],
   "source": [
    "# Create the rdd of unrated movies (things we haven't seen)\n",
    "myIds = [x[1] for x in myRatedMovies]\n",
    "myUnratedMoviesRDD = (moviesRDD\n",
    "                      .filter(lambda x:x[0] not in myIds))"
   ]
  },
  {
   "cell_type": "code",
   "execution_count": 21,
   "metadata": {
    "collapsed": false
   },
   "outputs": [
    {
     "name": "stdout",
     "output_type": "stream",
     "text": [
      "My highest rated movies as predicted (for movies with more than 75 reviews):\n",
      "(5.283147682824893, u'Halloween II (1981)', 85)\n",
      "(5.264062498059267, u\"Breakfast at Tiffany's (1961)\", 326)\n",
      "(5.245178209712927, u'Halloween II (1981)', 85)\n",
      "(5.239504672800167, u\"It's a Wonderful Life (1946)\", 343)\n",
      "(5.236705087447951, u\"Hang 'em High (1967)\", 92)\n",
      "(5.207028191989294, u\"Sullivan's Travels (1942)\", 90)\n",
      "(5.19270399167659, u'Tender Mercies (1983)', 139)\n",
      "(5.18658665643199, u'Fletch Lives (1989)', 103)\n",
      "(5.1860813356767235, u'Angels in the Outfield (1994)', 114)\n",
      "(5.165727618718441, u'Age of Innocence, The (1993)', 153)\n",
      "(5.164065770502644, u'Wolf (1994)', 125)\n",
      "(5.160447794939038, u'G.I. Jane (1997)', 270)\n",
      "(5.15830744748144, u'Nightmare on Elm Street 4: The Dream Master, A (1988)', 141)\n",
      "(5.149591755039808, u'Elephant Man, The (1980)', 219)\n",
      "(5.148758990616763, u'Species II (1998)', 102)\n",
      "(5.147659529959279, u'Shining, The (1980)', 484)\n",
      "(5.132414935285567, u'Highlander (1986)', 327)\n",
      "(5.125585688066486, u\"It's a Wonderful Life (1946)\", 343)\n",
      "(5.124983329540321, u'Spawn (1997)', 249)\n",
      "(5.121591901586744, u'Angels in the Outfield (1994)', 114)\n"
     ]
    }
   ],
   "source": [
    "# and now get our recommendations!\n",
    "# Transform movieIDsWithAvgRatingsRDD from part (1b), which has the form (MovieID, (number of ratings, average rating))\n",
    "# into and RDD of the form (MovieID, number of ratings)\n",
    "movieCountsRDD = movieIDsWithAvgRatingsRDD.map(lambda x:(x[0],x[1][0]))\n",
    "                                               \n",
    "# Transform predictedRatingsRDD into an RDD with entries that are pairs of the form (Movie ID, Predicted Rating)\n",
    "predictedRDD = predictedRatingsRDD.map(lambda x:(x[0],x[2]))\n",
    "\n",
    "# Use RDD transformations with predictedRDD and movieCountsRDD to yield an RDD with tuples of the form \n",
    "# (Movie ID, (Predicted Rating, number of ratings))\n",
    "predictedWithCountsRDD  = (predictedRDD.join(movieCountsRDD))\n",
    "\n",
    "# Use RDD transformations with PredictedWithCountsRDD and moviesRDD to yield an RDD with tuples of the form \n",
    "# (Predicted Rating, Movie Name, number of ratings), for movies with more than 75 ratings\n",
    "ratingsWithNamesRDD = (predictedWithCountsRDD.join(moviesRDD)\n",
    "                                             .map(lambda x:(x[1][0][0],x[1][1],x[1][0][1]))\n",
    "                                             .filter(lambda x:x[2]>75))\n",
    "\n",
    "predictedHighestRatedMovies = ratingsWithNamesRDD.takeOrdered(20, key=lambda x: -x[0])\n",
    "print ('My highest rated movies as predicted (for movies with more than 75 reviews):\\n%s' %\n",
    "        '\\n'.join(map(str, predictedHighestRatedMovies)))"
   ]
  },
  {
   "cell_type": "code",
   "execution_count": null,
   "metadata": {
    "collapsed": true
   },
   "outputs": [],
   "source": []
  }
 ],
 "metadata": {
  "kernelspec": {
   "display_name": "pySpark",
   "language": "python",
   "name": "pyspark"
  },
  "language_info": {
   "codemirror_mode": {
    "name": "ipython",
    "version": 2
   },
   "file_extension": ".py",
   "mimetype": "text/x-python",
   "name": "python",
   "nbconvert_exporter": "python",
   "pygments_lexer": "ipython2",
   "version": "2.7.10"
  }
 },
 "nbformat": 4,
 "nbformat_minor": 0
}
