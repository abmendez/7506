{
 "cells": [
  {
   "cell_type": "markdown",
   "metadata": {},
   "source": [
    "# MovieLens DataSet"
   ]
  },
  {
   "cell_type": "code",
   "execution_count": 131,
   "metadata": {
    "collapsed": false
   },
   "outputs": [],
   "source": [
    "import pandas as pd\n",
    "import numpy as np\n",
    "import seaborn as sns\n",
    "import matplotlib.pyplot as plt\n",
    "%matplotlib inline"
   ]
  },
  {
   "cell_type": "code",
   "execution_count": 135,
   "metadata": {
    "collapsed": false
   },
   "outputs": [
    {
     "data": {
      "text/html": [
       "<div>\n",
       "<table border=\"1\" class=\"dataframe\">\n",
       "  <thead>\n",
       "    <tr style=\"text-align: right;\">\n",
       "      <th></th>\n",
       "      <th>movieId</th>\n",
       "      <th>title</th>\n",
       "      <th>genres</th>\n",
       "    </tr>\n",
       "  </thead>\n",
       "  <tbody>\n",
       "    <tr>\n",
       "      <th>0</th>\n",
       "      <td>1</td>\n",
       "      <td>Toy Story (1995)</td>\n",
       "      <td>Adventure|Animation|Children|Comedy|Fantasy</td>\n",
       "    </tr>\n",
       "    <tr>\n",
       "      <th>1</th>\n",
       "      <td>2</td>\n",
       "      <td>Jumanji (1995)</td>\n",
       "      <td>Adventure|Children|Fantasy</td>\n",
       "    </tr>\n",
       "    <tr>\n",
       "      <th>2</th>\n",
       "      <td>3</td>\n",
       "      <td>Grumpier Old Men (1995)</td>\n",
       "      <td>Comedy|Romance</td>\n",
       "    </tr>\n",
       "  </tbody>\n",
       "</table>\n",
       "</div>"
      ],
      "text/plain": [
       "   movieId                    title  \\\n",
       "0        1         Toy Story (1995)   \n",
       "1        2           Jumanji (1995)   \n",
       "2        3  Grumpier Old Men (1995)   \n",
       "\n",
       "                                        genres  \n",
       "0  Adventure|Animation|Children|Comedy|Fantasy  \n",
       "1                   Adventure|Children|Fantasy  \n",
       "2                               Comedy|Romance  "
      ]
     },
     "execution_count": 135,
     "metadata": {},
     "output_type": "execute_result"
    }
   ],
   "source": [
    "movies = pd.read_csv('/home/boyto/DataSets/MovieLensResearch/movies.csv')\n",
    "#movies = pd.read_csv('/home/nati/DataSets/ml-20m/movies.csv')\n",
    "movies.head(3)"
   ]
  },
  {
   "cell_type": "code",
   "execution_count": 136,
   "metadata": {
    "collapsed": false
   },
   "outputs": [
    {
     "data": {
      "text/html": [
       "<div>\n",
       "<table border=\"1\" class=\"dataframe\">\n",
       "  <thead>\n",
       "    <tr style=\"text-align: right;\">\n",
       "      <th></th>\n",
       "      <th>movieId</th>\n",
       "      <th>title</th>\n",
       "      <th>genres</th>\n",
       "      <th>year</th>\n",
       "    </tr>\n",
       "  </thead>\n",
       "  <tbody>\n",
       "    <tr>\n",
       "      <th>0</th>\n",
       "      <td>1</td>\n",
       "      <td>Toy Story (1995)</td>\n",
       "      <td>Adventure|Animation|Children|Comedy|Fantasy</td>\n",
       "      <td>1995</td>\n",
       "    </tr>\n",
       "    <tr>\n",
       "      <th>1</th>\n",
       "      <td>2</td>\n",
       "      <td>Jumanji (1995)</td>\n",
       "      <td>Adventure|Children|Fantasy</td>\n",
       "      <td>1995</td>\n",
       "    </tr>\n",
       "    <tr>\n",
       "      <th>2</th>\n",
       "      <td>3</td>\n",
       "      <td>Grumpier Old Men (1995)</td>\n",
       "      <td>Comedy|Romance</td>\n",
       "      <td>1995</td>\n",
       "    </tr>\n",
       "    <tr>\n",
       "      <th>3</th>\n",
       "      <td>4</td>\n",
       "      <td>Waiting to Exhale (1995)</td>\n",
       "      <td>Comedy|Drama|Romance</td>\n",
       "      <td>1995</td>\n",
       "    </tr>\n",
       "    <tr>\n",
       "      <th>4</th>\n",
       "      <td>5</td>\n",
       "      <td>Father of the Bride Part II (1995)</td>\n",
       "      <td>Comedy</td>\n",
       "      <td>1995</td>\n",
       "    </tr>\n",
       "  </tbody>\n",
       "</table>\n",
       "</div>"
      ],
      "text/plain": [
       "   movieId                               title  \\\n",
       "0        1                    Toy Story (1995)   \n",
       "1        2                      Jumanji (1995)   \n",
       "2        3             Grumpier Old Men (1995)   \n",
       "3        4            Waiting to Exhale (1995)   \n",
       "4        5  Father of the Bride Part II (1995)   \n",
       "\n",
       "                                        genres  year  \n",
       "0  Adventure|Animation|Children|Comedy|Fantasy  1995  \n",
       "1                   Adventure|Children|Fantasy  1995  \n",
       "2                               Comedy|Romance  1995  \n",
       "3                         Comedy|Drama|Romance  1995  \n",
       "4                                       Comedy  1995  "
      ]
     },
     "execution_count": 136,
     "metadata": {},
     "output_type": "execute_result"
    }
   ],
   "source": [
    "movies['year'] = movies['title'].str.extract(r\"\\(([0-9]+)\\)\",expand=False)\n",
    "movies.head()"
   ]
  },
  {
   "cell_type": "code",
   "execution_count": 137,
   "metadata": {
    "collapsed": false
   },
   "outputs": [
    {
     "data": {
      "text/html": [
       "<div>\n",
       "<table border=\"1\" class=\"dataframe\">\n",
       "  <thead>\n",
       "    <tr style=\"text-align: right;\">\n",
       "      <th></th>\n",
       "      <th>userId</th>\n",
       "      <th>movieId</th>\n",
       "      <th>rating</th>\n",
       "      <th>timestamp</th>\n",
       "    </tr>\n",
       "  </thead>\n",
       "  <tbody>\n",
       "    <tr>\n",
       "      <th>5841005</th>\n",
       "      <td>40188</td>\n",
       "      <td>1251</td>\n",
       "      <td>5.0</td>\n",
       "      <td>1165607814</td>\n",
       "    </tr>\n",
       "    <tr>\n",
       "      <th>8887388</th>\n",
       "      <td>61443</td>\n",
       "      <td>42</td>\n",
       "      <td>4.0</td>\n",
       "      <td>856870606</td>\n",
       "    </tr>\n",
       "    <tr>\n",
       "      <th>7135370</th>\n",
       "      <td>49205</td>\n",
       "      <td>8644</td>\n",
       "      <td>4.0</td>\n",
       "      <td>1174352804</td>\n",
       "    </tr>\n",
       "  </tbody>\n",
       "</table>\n",
       "</div>"
      ],
      "text/plain": [
       "         userId  movieId  rating   timestamp\n",
       "5841005   40188     1251     5.0  1165607814\n",
       "8887388   61443       42     4.0   856870606\n",
       "7135370   49205     8644     4.0  1174352804"
      ]
     },
     "execution_count": 137,
     "metadata": {},
     "output_type": "execute_result"
    }
   ],
   "source": [
    "ratings = pd.read_csv('/home/boyto/DataSets/MovieLensResearch/ratings.csv')\n",
    "ratings.sample(3)"
   ]
  },
  {
   "cell_type": "code",
   "execution_count": 182,
   "metadata": {
    "collapsed": false
   },
   "outputs": [
    {
     "name": "stdout",
     "output_type": "stream",
     "text": [
      "20000263\n",
      "27278\n"
     ]
    }
   ],
   "source": [
    "# We have about 20 million ratings!\n",
    "print(len(ratings))\n",
    "print(len(movies))"
   ]
  },
  {
   "cell_type": "code",
   "execution_count": 138,
   "metadata": {
    "collapsed": false
   },
   "outputs": [
    {
     "data": {
      "text/html": [
       "<div>\n",
       "<table border=\"1\" class=\"dataframe\">\n",
       "  <thead>\n",
       "    <tr style=\"text-align: right;\">\n",
       "      <th></th>\n",
       "      <th>userId</th>\n",
       "      <th>movieId</th>\n",
       "      <th>rating</th>\n",
       "      <th>timestamp</th>\n",
       "      <th>date</th>\n",
       "    </tr>\n",
       "  </thead>\n",
       "  <tbody>\n",
       "    <tr>\n",
       "      <th>0</th>\n",
       "      <td>1</td>\n",
       "      <td>2</td>\n",
       "      <td>3.5</td>\n",
       "      <td>1112486027</td>\n",
       "      <td>2005-04-02 23:53:47</td>\n",
       "    </tr>\n",
       "    <tr>\n",
       "      <th>1</th>\n",
       "      <td>1</td>\n",
       "      <td>29</td>\n",
       "      <td>3.5</td>\n",
       "      <td>1112484676</td>\n",
       "      <td>2005-04-02 23:31:16</td>\n",
       "    </tr>\n",
       "    <tr>\n",
       "      <th>2</th>\n",
       "      <td>1</td>\n",
       "      <td>32</td>\n",
       "      <td>3.5</td>\n",
       "      <td>1112484819</td>\n",
       "      <td>2005-04-02 23:33:39</td>\n",
       "    </tr>\n",
       "    <tr>\n",
       "      <th>3</th>\n",
       "      <td>1</td>\n",
       "      <td>47</td>\n",
       "      <td>3.5</td>\n",
       "      <td>1112484727</td>\n",
       "      <td>2005-04-02 23:32:07</td>\n",
       "    </tr>\n",
       "    <tr>\n",
       "      <th>4</th>\n",
       "      <td>1</td>\n",
       "      <td>50</td>\n",
       "      <td>3.5</td>\n",
       "      <td>1112484580</td>\n",
       "      <td>2005-04-02 23:29:40</td>\n",
       "    </tr>\n",
       "  </tbody>\n",
       "</table>\n",
       "</div>"
      ],
      "text/plain": [
       "   userId  movieId  rating   timestamp                date\n",
       "0       1        2     3.5  1112486027 2005-04-02 23:53:47\n",
       "1       1       29     3.5  1112484676 2005-04-02 23:31:16\n",
       "2       1       32     3.5  1112484819 2005-04-02 23:33:39\n",
       "3       1       47     3.5  1112484727 2005-04-02 23:32:07\n",
       "4       1       50     3.5  1112484580 2005-04-02 23:29:40"
      ]
     },
     "execution_count": 138,
     "metadata": {},
     "output_type": "execute_result"
    }
   ],
   "source": [
    "import datetime\n",
    "ratings['date'] = pd.to_datetime(ratings['timestamp'], unit='s')\n",
    "ratings.head()"
   ]
  },
  {
   "cell_type": "code",
   "execution_count": 162,
   "metadata": {
    "collapsed": false
   },
   "outputs": [
    {
     "data": {
      "image/png": "[encoded data removed]",
      "text/plain": [
       "<matplotlib.figure.Figure at 0x7f215ffb1b90>"
      ]
     },
     "metadata": {},
     "output_type": "display_data"
    }
   ],
   "source": [
    "# Histogram of ratings\n",
    "ratings['rating'].hist(figsize=(16,8),bins=5);"
   ]
  },
  {
   "cell_type": "markdown",
   "metadata": {},
   "source": [
    "## Build Stats About movies\n",
    "Join movies and ratings, group by movie"
   ]
  },
  {
   "cell_type": "code",
   "execution_count": 183,
   "metadata": {
    "collapsed": false
   },
   "outputs": [
    {
     "data": {
      "text/html": [
       "<div>\n",
       "<table border=\"1\" class=\"dataframe\">\n",
       "  <thead>\n",
       "    <tr style=\"text-align: right;\">\n",
       "      <th></th>\n",
       "      <th>movieId</th>\n",
       "      <th>title</th>\n",
       "      <th>genres</th>\n",
       "      <th>year</th>\n",
       "      <th>userId</th>\n",
       "      <th>rating</th>\n",
       "      <th>timestamp</th>\n",
       "      <th>date</th>\n",
       "    </tr>\n",
       "  </thead>\n",
       "  <tbody>\n",
       "    <tr>\n",
       "      <th>7849722</th>\n",
       "      <td>1411</td>\n",
       "      <td>Hamlet (1996)</td>\n",
       "      <td>Crime|Drama|Romance</td>\n",
       "      <td>1996</td>\n",
       "      <td>132136</td>\n",
       "      <td>3.0</td>\n",
       "      <td>955913837</td>\n",
       "      <td>2000-04-16 19:37:17</td>\n",
       "    </tr>\n",
       "    <tr>\n",
       "      <th>19506889</th>\n",
       "      <td>78124</td>\n",
       "      <td>Hoffman (1970)</td>\n",
       "      <td>Comedy|Drama|Romance</td>\n",
       "      <td>1970</td>\n",
       "      <td>129903</td>\n",
       "      <td>3.0</td>\n",
       "      <td>1275482290</td>\n",
       "      <td>2010-06-02 12:38:10</td>\n",
       "    </tr>\n",
       "  </tbody>\n",
       "</table>\n",
       "</div>"
      ],
      "text/plain": [
       "          movieId           title                genres  year  userId  rating  \\\n",
       "7849722      1411   Hamlet (1996)   Crime|Drama|Romance  1996  132136     3.0   \n",
       "19506889    78124  Hoffman (1970)  Comedy|Drama|Romance  1970  129903     3.0   \n",
       "\n",
       "           timestamp                date  \n",
       "7849722    955913837 2000-04-16 19:37:17  \n",
       "19506889  1275482290 2010-06-02 12:38:10  "
      ]
     },
     "execution_count": 183,
     "metadata": {},
     "output_type": "execute_result"
    }
   ],
   "source": [
    "rated_movies = pd.merge(movies,ratings, left_on='movieId', right_on='movieId', how='inner')\n",
    "rated_movies.sample(2)"
   ]
  },
  {
   "cell_type": "code",
   "execution_count": 184,
   "metadata": {
    "collapsed": false
   },
   "outputs": [
    {
     "data": {
      "text/html": [
       "<div>\n",
       "<table border=\"1\" class=\"dataframe\">\n",
       "  <thead>\n",
       "    <tr style=\"text-align: right;\">\n",
       "      <th></th>\n",
       "      <th></th>\n",
       "      <th>size</th>\n",
       "      <th>mean</th>\n",
       "      <th>std</th>\n",
       "    </tr>\n",
       "    <tr>\n",
       "      <th>movieId</th>\n",
       "      <th>title</th>\n",
       "      <th></th>\n",
       "      <th></th>\n",
       "      <th></th>\n",
       "    </tr>\n",
       "  </thead>\n",
       "  <tbody>\n",
       "    <tr>\n",
       "      <th>1</th>\n",
       "      <th>Toy Story (1995)</th>\n",
       "      <td>49695.0</td>\n",
       "      <td>3.921240</td>\n",
       "      <td>0.889012</td>\n",
       "    </tr>\n",
       "    <tr>\n",
       "      <th>2</th>\n",
       "      <th>Jumanji (1995)</th>\n",
       "      <td>22243.0</td>\n",
       "      <td>3.211977</td>\n",
       "      <td>0.951150</td>\n",
       "    </tr>\n",
       "    <tr>\n",
       "      <th>3</th>\n",
       "      <th>Grumpier Old Men (1995)</th>\n",
       "      <td>12735.0</td>\n",
       "      <td>3.151040</td>\n",
       "      <td>1.006642</td>\n",
       "    </tr>\n",
       "    <tr>\n",
       "      <th>4</th>\n",
       "      <th>Waiting to Exhale (1995)</th>\n",
       "      <td>2756.0</td>\n",
       "      <td>2.861393</td>\n",
       "      <td>1.095702</td>\n",
       "    </tr>\n",
       "    <tr>\n",
       "      <th>5</th>\n",
       "      <th>Father of the Bride Part II (1995)</th>\n",
       "      <td>12161.0</td>\n",
       "      <td>3.064592</td>\n",
       "      <td>0.982140</td>\n",
       "    </tr>\n",
       "  </tbody>\n",
       "</table>\n",
       "</div>"
      ],
      "text/plain": [
       "                                               size      mean       std\n",
       "movieId title                                                          \n",
       "1       Toy Story (1995)                    49695.0  3.921240  0.889012\n",
       "2       Jumanji (1995)                      22243.0  3.211977  0.951150\n",
       "3       Grumpier Old Men (1995)             12735.0  3.151040  1.006642\n",
       "4       Waiting to Exhale (1995)             2756.0  2.861393  1.095702\n",
       "5       Father of the Bride Part II (1995)  12161.0  3.064592  0.982140"
      ]
     },
     "execution_count": 184,
     "metadata": {},
     "output_type": "execute_result"
    }
   ],
   "source": [
    "movie_stats = rated_movies.groupby(['movieId','title'])['rating'].agg([np.size,np.mean,np.std])\n",
    "movie_stats.head()"
   ]
  },
  {
   "cell_type": "markdown",
   "metadata": {},
   "source": [
    "## The Top 10 Movies \n",
    "With more than 10000 ratings"
   ]
  },
  {
   "cell_type": "code",
   "execution_count": 142,
   "metadata": {
    "collapsed": false
   },
   "outputs": [
    {
     "data": {
      "text/html": [
       "<div>\n",
       "<table border=\"1\" class=\"dataframe\">\n",
       "  <thead>\n",
       "    <tr style=\"text-align: right;\">\n",
       "      <th></th>\n",
       "      <th></th>\n",
       "      <th>size</th>\n",
       "      <th>mean</th>\n",
       "      <th>std</th>\n",
       "    </tr>\n",
       "    <tr>\n",
       "      <th>movieId</th>\n",
       "      <th>title</th>\n",
       "      <th></th>\n",
       "      <th></th>\n",
       "      <th></th>\n",
       "    </tr>\n",
       "  </thead>\n",
       "  <tbody>\n",
       "    <tr>\n",
       "      <th>318</th>\n",
       "      <th>Shawshank Redemption, The (1994)</th>\n",
       "      <td>63366.0</td>\n",
       "      <td>4.446990</td>\n",
       "      <td>0.717525</td>\n",
       "    </tr>\n",
       "    <tr>\n",
       "      <th>858</th>\n",
       "      <th>Godfather, The (1972)</th>\n",
       "      <td>41355.0</td>\n",
       "      <td>4.364732</td>\n",
       "      <td>0.839877</td>\n",
       "    </tr>\n",
       "    <tr>\n",
       "      <th>50</th>\n",
       "      <th>Usual Suspects, The (1995)</th>\n",
       "      <td>47006.0</td>\n",
       "      <td>4.334372</td>\n",
       "      <td>0.756783</td>\n",
       "    </tr>\n",
       "    <tr>\n",
       "      <th>527</th>\n",
       "      <th>Schindler's List (1993)</th>\n",
       "      <td>50054.0</td>\n",
       "      <td>4.310175</td>\n",
       "      <td>0.825421</td>\n",
       "    </tr>\n",
       "    <tr>\n",
       "      <th>1221</th>\n",
       "      <th>Godfather: Part II, The (1974)</th>\n",
       "      <td>27398.0</td>\n",
       "      <td>4.275641</td>\n",
       "      <td>0.864499</td>\n",
       "    </tr>\n",
       "    <tr>\n",
       "      <th>2019</th>\n",
       "      <th>Seven Samurai (Shichinin no samurai) (1954)</th>\n",
       "      <td>11611.0</td>\n",
       "      <td>4.274180</td>\n",
       "      <td>0.837452</td>\n",
       "    </tr>\n",
       "    <tr>\n",
       "      <th>904</th>\n",
       "      <th>Rear Window (1954)</th>\n",
       "      <td>17449.0</td>\n",
       "      <td>4.271334</td>\n",
       "      <td>0.752636</td>\n",
       "    </tr>\n",
       "    <tr>\n",
       "      <th>912</th>\n",
       "      <th>Casablanca (1942)</th>\n",
       "      <td>24349.0</td>\n",
       "      <td>4.258327</td>\n",
       "      <td>0.863380</td>\n",
       "    </tr>\n",
       "    <tr>\n",
       "      <th>1193</th>\n",
       "      <th>One Flew Over the Cuckoo's Nest (1975)</th>\n",
       "      <td>29932.0</td>\n",
       "      <td>4.248079</td>\n",
       "      <td>0.768709</td>\n",
       "    </tr>\n",
       "    <tr>\n",
       "      <th>750</th>\n",
       "      <th>Dr. Strangelove or: How I Learned to Stop Worrying and Love the Bomb (1964)</th>\n",
       "      <td>23220.0</td>\n",
       "      <td>4.247287</td>\n",
       "      <td>0.863693</td>\n",
       "    </tr>\n",
       "  </tbody>\n",
       "</table>\n",
       "</div>"
      ],
      "text/plain": [
       "                                                               size      mean  \\\n",
       "movieId title                                                                   \n",
       "318     Shawshank Redemption, The (1994)                    63366.0  4.446990   \n",
       "858     Godfather, The (1972)                               41355.0  4.364732   \n",
       "50      Usual Suspects, The (1995)                          47006.0  4.334372   \n",
       "527     Schindler's List (1993)                             50054.0  4.310175   \n",
       "1221    Godfather: Part II, The (1974)                      27398.0  4.275641   \n",
       "2019    Seven Samurai (Shichinin no samurai) (1954)         11611.0  4.274180   \n",
       "904     Rear Window (1954)                                  17449.0  4.271334   \n",
       "912     Casablanca (1942)                                   24349.0  4.258327   \n",
       "1193    One Flew Over the Cuckoo's Nest (1975)              29932.0  4.248079   \n",
       "750     Dr. Strangelove or: How I Learned to Stop Worry...  23220.0  4.247287   \n",
       "\n",
       "                                                                 std  \n",
       "movieId title                                                         \n",
       "318     Shawshank Redemption, The (1994)                    0.717525  \n",
       "858     Godfather, The (1972)                               0.839877  \n",
       "50      Usual Suspects, The (1995)                          0.756783  \n",
       "527     Schindler's List (1993)                             0.825421  \n",
       "1221    Godfather: Part II, The (1974)                      0.864499  \n",
       "2019    Seven Samurai (Shichinin no samurai) (1954)         0.837452  \n",
       "904     Rear Window (1954)                                  0.752636  \n",
       "912     Casablanca (1942)                                   0.863380  \n",
       "1193    One Flew Over the Cuckoo's Nest (1975)              0.768709  \n",
       "750     Dr. Strangelove or: How I Learned to Stop Worry...  0.863693  "
      ]
     },
     "execution_count": 142,
     "metadata": {},
     "output_type": "execute_result"
    }
   ],
   "source": [
    "movie_stats.loc[movie_stats['size'] > 10000,:].sort_values('mean', ascending=False).head(10)"
   ]
  },
  {
   "cell_type": "code",
   "execution_count": 143,
   "metadata": {
    "collapsed": false
   },
   "outputs": [
    {
     "data": {
      "text/plain": [
       "[318, 858, 50, 527, 1221]"
      ]
     },
     "execution_count": 143,
     "metadata": {},
     "output_type": "execute_result"
    }
   ],
   "source": [
    "Top5Movies = movie_stats.loc[movie_stats['size'] > 10000,:].sort_values('mean', ascending=False).head(5)\\\n",
    "        .reset_index()['movieId'].tolist()\n",
    "Top5Movies"
   ]
  },
  {
   "cell_type": "markdown",
   "metadata": {},
   "source": [
    "## The Worst 10 Movies\n",
    "With more than 10000 ratings"
   ]
  },
  {
   "cell_type": "code",
   "execution_count": 144,
   "metadata": {
    "collapsed": false
   },
   "outputs": [
    {
     "data": {
      "text/html": [
       "<div>\n",
       "<table border=\"1\" class=\"dataframe\">\n",
       "  <thead>\n",
       "    <tr style=\"text-align: right;\">\n",
       "      <th></th>\n",
       "      <th></th>\n",
       "      <th>size</th>\n",
       "      <th>mean</th>\n",
       "      <th>std</th>\n",
       "    </tr>\n",
       "    <tr>\n",
       "      <th>movieId</th>\n",
       "      <th>title</th>\n",
       "      <th></th>\n",
       "      <th></th>\n",
       "      <th></th>\n",
       "    </tr>\n",
       "  </thead>\n",
       "  <tbody>\n",
       "    <tr>\n",
       "      <th>2701</th>\n",
       "      <th>Wild Wild West (1999)</th>\n",
       "      <td>11038.0</td>\n",
       "      <td>2.292716</td>\n",
       "      <td>1.052691</td>\n",
       "    </tr>\n",
       "    <tr>\n",
       "      <th>173</th>\n",
       "      <th>Judge Dredd (1995)</th>\n",
       "      <td>14993.0</td>\n",
       "      <td>2.538285</td>\n",
       "      <td>1.031861</td>\n",
       "    </tr>\n",
       "    <tr>\n",
       "      <th>435</th>\n",
       "      <th>Coneheads (1993)</th>\n",
       "      <td>13911.0</td>\n",
       "      <td>2.593559</td>\n",
       "      <td>0.990192</td>\n",
       "    </tr>\n",
       "    <tr>\n",
       "      <th>160</th>\n",
       "      <th>Congo (1995)</th>\n",
       "      <td>14965.0</td>\n",
       "      <td>2.604744</td>\n",
       "      <td>1.022128</td>\n",
       "    </tr>\n",
       "    <tr>\n",
       "      <th>19</th>\n",
       "      <th>Ace Ventura: When Nature Calls (1995)</th>\n",
       "      <td>20938.0</td>\n",
       "      <td>2.607412</td>\n",
       "      <td>1.151479</td>\n",
       "    </tr>\n",
       "    <tr>\n",
       "      <th>44</th>\n",
       "      <th>Mortal Kombat (1995)</th>\n",
       "      <td>10697.0</td>\n",
       "      <td>2.653875</td>\n",
       "      <td>1.122321</td>\n",
       "    </tr>\n",
       "    <tr>\n",
       "      <th>2054</th>\n",
       "      <th>Honey, I Shrunk the Kids (1989)</th>\n",
       "      <td>16510.0</td>\n",
       "      <td>2.702726</td>\n",
       "      <td>0.988592</td>\n",
       "    </tr>\n",
       "    <tr>\n",
       "      <th>784</th>\n",
       "      <th>Cable Guy, The (1996)</th>\n",
       "      <td>14379.0</td>\n",
       "      <td>2.702761</td>\n",
       "      <td>1.048670</td>\n",
       "    </tr>\n",
       "    <tr>\n",
       "      <th>172</th>\n",
       "      <th>Johnny Mnemonic (1995)</th>\n",
       "      <td>12706.0</td>\n",
       "      <td>2.732607</td>\n",
       "      <td>1.028740</td>\n",
       "    </tr>\n",
       "    <tr>\n",
       "      <th>432</th>\n",
       "      <th>City Slickers II: The Legend of Curly's Gold (1994)</th>\n",
       "      <td>12819.0</td>\n",
       "      <td>2.735471</td>\n",
       "      <td>0.933608</td>\n",
       "    </tr>\n",
       "  </tbody>\n",
       "</table>\n",
       "</div>"
      ],
      "text/plain": [
       "                                                               size      mean  \\\n",
       "movieId title                                                                   \n",
       "2701    Wild Wild West (1999)                               11038.0  2.292716   \n",
       "173     Judge Dredd (1995)                                  14993.0  2.538285   \n",
       "435     Coneheads (1993)                                    13911.0  2.593559   \n",
       "160     Congo (1995)                                        14965.0  2.604744   \n",
       "19      Ace Ventura: When Nature Calls (1995)               20938.0  2.607412   \n",
       "44      Mortal Kombat (1995)                                10697.0  2.653875   \n",
       "2054    Honey, I Shrunk the Kids (1989)                     16510.0  2.702726   \n",
       "784     Cable Guy, The (1996)                               14379.0  2.702761   \n",
       "172     Johnny Mnemonic (1995)                              12706.0  2.732607   \n",
       "432     City Slickers II: The Legend of Curly's Gold (1...  12819.0  2.735471   \n",
       "\n",
       "                                                                 std  \n",
       "movieId title                                                         \n",
       "2701    Wild Wild West (1999)                               1.052691  \n",
       "173     Judge Dredd (1995)                                  1.031861  \n",
       "435     Coneheads (1993)                                    0.990192  \n",
       "160     Congo (1995)                                        1.022128  \n",
       "19      Ace Ventura: When Nature Calls (1995)               1.151479  \n",
       "44      Mortal Kombat (1995)                                1.122321  \n",
       "2054    Honey, I Shrunk the Kids (1989)                     0.988592  \n",
       "784     Cable Guy, The (1996)                               1.048670  \n",
       "172     Johnny Mnemonic (1995)                              1.028740  \n",
       "432     City Slickers II: The Legend of Curly's Gold (1...  0.933608  "
      ]
     },
     "execution_count": 144,
     "metadata": {},
     "output_type": "execute_result"
    }
   ],
   "source": [
    "movie_stats.loc[movie_stats['size'] > 10000,:].sort_values('mean', ascending=True).head(10)"
   ]
  },
  {
   "cell_type": "markdown",
   "metadata": {},
   "source": [
    "## The Most Variable Movies\n",
    "With more than 10000 ratings"
   ]
  },
  {
   "cell_type": "code",
   "execution_count": 145,
   "metadata": {
    "collapsed": false
   },
   "outputs": [
    {
     "data": {
      "text/html": [
       "<div>\n",
       "<table border=\"1\" class=\"dataframe\">\n",
       "  <thead>\n",
       "    <tr style=\"text-align: right;\">\n",
       "      <th></th>\n",
       "      <th></th>\n",
       "      <th>size</th>\n",
       "      <th>mean</th>\n",
       "      <th>std</th>\n",
       "    </tr>\n",
       "    <tr>\n",
       "      <th>movieId</th>\n",
       "      <th>title</th>\n",
       "      <th></th>\n",
       "      <th></th>\n",
       "      <th></th>\n",
       "    </tr>\n",
       "  </thead>\n",
       "  <tbody>\n",
       "    <tr>\n",
       "      <th>2710</th>\n",
       "      <th>Blair Witch Project, The (1999)</th>\n",
       "      <td>19111.0</td>\n",
       "      <td>2.884072</td>\n",
       "      <td>1.239533</td>\n",
       "    </tr>\n",
       "    <tr>\n",
       "      <th>2657</th>\n",
       "      <th>Rocky Horror Picture Show, The (1975)</th>\n",
       "      <td>13482.0</td>\n",
       "      <td>3.329588</td>\n",
       "      <td>1.212654</td>\n",
       "    </tr>\n",
       "    <tr>\n",
       "      <th>231</th>\n",
       "      <th>Dumb &amp; Dumber (Dumb and Dumber) (1994)</th>\n",
       "      <td>32085.0</td>\n",
       "      <td>2.952470</td>\n",
       "      <td>1.193118</td>\n",
       "    </tr>\n",
       "    <tr>\n",
       "      <th>288</th>\n",
       "      <th>Natural Born Killers (1994)</th>\n",
       "      <td>23610.0</td>\n",
       "      <td>3.230347</td>\n",
       "      <td>1.192219</td>\n",
       "    </tr>\n",
       "    <tr>\n",
       "      <th>4308</th>\n",
       "      <th>Moulin Rouge (2001)</th>\n",
       "      <td>11580.0</td>\n",
       "      <td>3.581174</td>\n",
       "      <td>1.158249</td>\n",
       "    </tr>\n",
       "    <tr>\n",
       "      <th>1721</th>\n",
       "      <th>Titanic (1997)</th>\n",
       "      <td>32238.0</td>\n",
       "      <td>3.338188</td>\n",
       "      <td>1.156372</td>\n",
       "    </tr>\n",
       "    <tr>\n",
       "      <th>2712</th>\n",
       "      <th>Eyes Wide Shut (1999)</th>\n",
       "      <td>14615.0</td>\n",
       "      <td>3.210161</td>\n",
       "      <td>1.155927</td>\n",
       "    </tr>\n",
       "    <tr>\n",
       "      <th>19</th>\n",
       "      <th>Ace Ventura: When Nature Calls (1995)</th>\n",
       "      <td>20938.0</td>\n",
       "      <td>2.607412</td>\n",
       "      <td>1.151479</td>\n",
       "    </tr>\n",
       "    <tr>\n",
       "      <th>1183</th>\n",
       "      <th>English Patient, The (1996)</th>\n",
       "      <td>15330.0</td>\n",
       "      <td>3.633823</td>\n",
       "      <td>1.145200</td>\n",
       "    </tr>\n",
       "    <tr>\n",
       "      <th>2628</th>\n",
       "      <th>Star Wars: Episode I - The Phantom Menace (1999)</th>\n",
       "      <td>29574.0</td>\n",
       "      <td>3.080983</td>\n",
       "      <td>1.140808</td>\n",
       "    </tr>\n",
       "  </tbody>\n",
       "</table>\n",
       "</div>"
      ],
      "text/plain": [
       "                                                             size      mean  \\\n",
       "movieId title                                                                 \n",
       "2710    Blair Witch Project, The (1999)                   19111.0  2.884072   \n",
       "2657    Rocky Horror Picture Show, The (1975)             13482.0  3.329588   \n",
       "231     Dumb & Dumber (Dumb and Dumber) (1994)            32085.0  2.952470   \n",
       "288     Natural Born Killers (1994)                       23610.0  3.230347   \n",
       "4308    Moulin Rouge (2001)                               11580.0  3.581174   \n",
       "1721    Titanic (1997)                                    32238.0  3.338188   \n",
       "2712    Eyes Wide Shut (1999)                             14615.0  3.210161   \n",
       "19      Ace Ventura: When Nature Calls (1995)             20938.0  2.607412   \n",
       "1183    English Patient, The (1996)                       15330.0  3.633823   \n",
       "2628    Star Wars: Episode I - The Phantom Menace (1999)  29574.0  3.080983   \n",
       "\n",
       "                                                               std  \n",
       "movieId title                                                       \n",
       "2710    Blair Witch Project, The (1999)                   1.239533  \n",
       "2657    Rocky Horror Picture Show, The (1975)             1.212654  \n",
       "231     Dumb & Dumber (Dumb and Dumber) (1994)            1.193118  \n",
       "288     Natural Born Killers (1994)                       1.192219  \n",
       "4308    Moulin Rouge (2001)                               1.158249  \n",
       "1721    Titanic (1997)                                    1.156372  \n",
       "2712    Eyes Wide Shut (1999)                             1.155927  \n",
       "19      Ace Ventura: When Nature Calls (1995)             1.151479  \n",
       "1183    English Patient, The (1996)                       1.145200  \n",
       "2628    Star Wars: Episode I - The Phantom Menace (1999)  1.140808  "
      ]
     },
     "execution_count": 145,
     "metadata": {},
     "output_type": "execute_result"
    }
   ],
   "source": [
    "movie_stats.loc[movie_stats['size'] > 10000,:].sort_values('std', ascending=False).head(10)"
   ]
  },
  {
   "cell_type": "markdown",
   "metadata": {},
   "source": [
    "## The Less Variable Movies\n",
    "With more than 10000 ratings"
   ]
  },
  {
   "cell_type": "code",
   "execution_count": 146,
   "metadata": {
    "collapsed": false
   },
   "outputs": [
    {
     "data": {
      "text/html": [
       "<div>\n",
       "<table border=\"1\" class=\"dataframe\">\n",
       "  <thead>\n",
       "    <tr style=\"text-align: right;\">\n",
       "      <th></th>\n",
       "      <th></th>\n",
       "      <th>size</th>\n",
       "      <th>mean</th>\n",
       "      <th>std</th>\n",
       "    </tr>\n",
       "    <tr>\n",
       "      <th>movieId</th>\n",
       "      <th>title</th>\n",
       "      <th></th>\n",
       "      <th></th>\n",
       "      <th></th>\n",
       "    </tr>\n",
       "  </thead>\n",
       "  <tbody>\n",
       "    <tr>\n",
       "      <th>5989</th>\n",
       "      <th>Catch Me If You Can (2002)</th>\n",
       "      <td>18002.0</td>\n",
       "      <td>3.848434</td>\n",
       "      <td>0.716596</td>\n",
       "    </tr>\n",
       "    <tr>\n",
       "      <th>318</th>\n",
       "      <th>Shawshank Redemption, The (1994)</th>\n",
       "      <td>63366.0</td>\n",
       "      <td>4.446990</td>\n",
       "      <td>0.717525</td>\n",
       "    </tr>\n",
       "    <tr>\n",
       "      <th>48516</th>\n",
       "      <th>Departed, The (2006)</th>\n",
       "      <td>14309.0</td>\n",
       "      <td>4.109931</td>\n",
       "      <td>0.727475</td>\n",
       "    </tr>\n",
       "    <tr>\n",
       "      <th>48780</th>\n",
       "      <th>Prestige, The (2006)</th>\n",
       "      <td>11269.0</td>\n",
       "      <td>4.042195</td>\n",
       "      <td>0.728842</td>\n",
       "    </tr>\n",
       "    <tr>\n",
       "      <th>1262</th>\n",
       "      <th>Great Escape, The (1963)</th>\n",
       "      <td>10904.0</td>\n",
       "      <td>4.137656</td>\n",
       "      <td>0.737883</td>\n",
       "    </tr>\n",
       "    <tr>\n",
       "      <th>474</th>\n",
       "      <th>In the Line of Fire (1993)</th>\n",
       "      <td>18836.0</td>\n",
       "      <td>3.732507</td>\n",
       "      <td>0.747990</td>\n",
       "    </tr>\n",
       "    <tr>\n",
       "      <th>2329</th>\n",
       "      <th>American History X (1998)</th>\n",
       "      <td>23309.0</td>\n",
       "      <td>4.151208</td>\n",
       "      <td>0.750459</td>\n",
       "    </tr>\n",
       "    <tr>\n",
       "      <th>908</th>\n",
       "      <th>North by Northwest (1959)</th>\n",
       "      <td>15627.0</td>\n",
       "      <td>4.233538</td>\n",
       "      <td>0.752293</td>\n",
       "    </tr>\n",
       "    <tr>\n",
       "      <th>904</th>\n",
       "      <th>Rear Window (1954)</th>\n",
       "      <td>17449.0</td>\n",
       "      <td>4.271334</td>\n",
       "      <td>0.752636</td>\n",
       "    </tr>\n",
       "    <tr>\n",
       "      <th>50</th>\n",
       "      <th>Usual Suspects, The (1995)</th>\n",
       "      <td>47006.0</td>\n",
       "      <td>4.334372</td>\n",
       "      <td>0.756783</td>\n",
       "    </tr>\n",
       "  </tbody>\n",
       "</table>\n",
       "</div>"
      ],
      "text/plain": [
       "                                             size      mean       std\n",
       "movieId title                                                        \n",
       "5989    Catch Me If You Can (2002)        18002.0  3.848434  0.716596\n",
       "318     Shawshank Redemption, The (1994)  63366.0  4.446990  0.717525\n",
       "48516   Departed, The (2006)              14309.0  4.109931  0.727475\n",
       "48780   Prestige, The (2006)              11269.0  4.042195  0.728842\n",
       "1262    Great Escape, The (1963)          10904.0  4.137656  0.737883\n",
       "474     In the Line of Fire (1993)        18836.0  3.732507  0.747990\n",
       "2329    American History X (1998)         23309.0  4.151208  0.750459\n",
       "908     North by Northwest (1959)         15627.0  4.233538  0.752293\n",
       "904     Rear Window (1954)                17449.0  4.271334  0.752636\n",
       "50      Usual Suspects, The (1995)        47006.0  4.334372  0.756783"
      ]
     },
     "execution_count": 146,
     "metadata": {},
     "output_type": "execute_result"
    }
   ],
   "source": [
    "movie_stats.loc[movie_stats['size'] > 10000,:].sort_values('std', ascending=True).head(10)"
   ]
  },
  {
   "cell_type": "code",
   "execution_count": 176,
   "metadata": {
    "collapsed": false
   },
   "outputs": [
    {
     "data": {
      "image/png": "[encoded data removed]",
      "text/plain": [
       "<matplotlib.figure.Figure at 0x7f2162f09150>"
      ]
     },
     "metadata": {},
     "output_type": "display_data"
    }
   ],
   "source": [
    "# Check Histogram for The Blair Witch Project\n",
    "ratings.loc[ratings.movieId == 2710,'rating'].plot.density(figsize=(16,8));\n",
    "ratings.loc[ratings.movieId == 5989,'rating'].plot.density(figsize=(16,8));\n",
    "#ratings.loc[ratings.movieId == 2710,'rating'].hist(figsize=(16,8),bins=5,alpha=0.5); \n",
    "#ratings.loc[ratings.movieId == 5989,'rating'].hist(figsize=(16,8),bins=5,alpha=0.5); "
   ]
  },
  {
   "cell_type": "markdown",
   "metadata": {},
   "source": [
    "## The Most Popular Movies"
   ]
  },
  {
   "cell_type": "code",
   "execution_count": 148,
   "metadata": {
    "collapsed": false
   },
   "outputs": [
    {
     "data": {
      "text/html": [
       "<div>\n",
       "<table border=\"1\" class=\"dataframe\">\n",
       "  <thead>\n",
       "    <tr style=\"text-align: right;\">\n",
       "      <th></th>\n",
       "      <th></th>\n",
       "      <th>size</th>\n",
       "      <th>mean</th>\n",
       "      <th>std</th>\n",
       "    </tr>\n",
       "    <tr>\n",
       "      <th>movieId</th>\n",
       "      <th>title</th>\n",
       "      <th></th>\n",
       "      <th></th>\n",
       "      <th></th>\n",
       "    </tr>\n",
       "  </thead>\n",
       "  <tbody>\n",
       "    <tr>\n",
       "      <th>296</th>\n",
       "      <th>Pulp Fiction (1994)</th>\n",
       "      <td>67310.0</td>\n",
       "      <td>4.174231</td>\n",
       "      <td>0.976076</td>\n",
       "    </tr>\n",
       "    <tr>\n",
       "      <th>356</th>\n",
       "      <th>Forrest Gump (1994)</th>\n",
       "      <td>66172.0</td>\n",
       "      <td>4.029000</td>\n",
       "      <td>0.948018</td>\n",
       "    </tr>\n",
       "    <tr>\n",
       "      <th>318</th>\n",
       "      <th>Shawshank Redemption, The (1994)</th>\n",
       "      <td>63366.0</td>\n",
       "      <td>4.446990</td>\n",
       "      <td>0.717525</td>\n",
       "    </tr>\n",
       "    <tr>\n",
       "      <th>593</th>\n",
       "      <th>Silence of the Lambs, The (1991)</th>\n",
       "      <td>63299.0</td>\n",
       "      <td>4.177057</td>\n",
       "      <td>0.842421</td>\n",
       "    </tr>\n",
       "    <tr>\n",
       "      <th>480</th>\n",
       "      <th>Jurassic Park (1993)</th>\n",
       "      <td>59715.0</td>\n",
       "      <td>3.664741</td>\n",
       "      <td>0.927818</td>\n",
       "    </tr>\n",
       "    <tr>\n",
       "      <th>260</th>\n",
       "      <th>Star Wars: Episode IV - A New Hope (1977)</th>\n",
       "      <td>54502.0</td>\n",
       "      <td>4.190672</td>\n",
       "      <td>0.918522</td>\n",
       "    </tr>\n",
       "    <tr>\n",
       "      <th>110</th>\n",
       "      <th>Braveheart (1995)</th>\n",
       "      <td>53769.0</td>\n",
       "      <td>4.042534</td>\n",
       "      <td>0.955058</td>\n",
       "    </tr>\n",
       "    <tr>\n",
       "      <th>589</th>\n",
       "      <th>Terminator 2: Judgment Day (1991)</th>\n",
       "      <td>52244.0</td>\n",
       "      <td>3.931954</td>\n",
       "      <td>0.903087</td>\n",
       "    </tr>\n",
       "    <tr>\n",
       "      <th>2571</th>\n",
       "      <th>Matrix, The (1999)</th>\n",
       "      <td>51334.0</td>\n",
       "      <td>4.187186</td>\n",
       "      <td>0.887929</td>\n",
       "    </tr>\n",
       "    <tr>\n",
       "      <th>527</th>\n",
       "      <th>Schindler's List (1993)</th>\n",
       "      <td>50054.0</td>\n",
       "      <td>4.310175</td>\n",
       "      <td>0.825421</td>\n",
       "    </tr>\n",
       "  </tbody>\n",
       "</table>\n",
       "</div>"
      ],
      "text/plain": [
       "                                                      size      mean       std\n",
       "movieId title                                                                 \n",
       "296     Pulp Fiction (1994)                        67310.0  4.174231  0.976076\n",
       "356     Forrest Gump (1994)                        66172.0  4.029000  0.948018\n",
       "318     Shawshank Redemption, The (1994)           63366.0  4.446990  0.717525\n",
       "593     Silence of the Lambs, The (1991)           63299.0  4.177057  0.842421\n",
       "480     Jurassic Park (1993)                       59715.0  3.664741  0.927818\n",
       "260     Star Wars: Episode IV - A New Hope (1977)  54502.0  4.190672  0.918522\n",
       "110     Braveheart (1995)                          53769.0  4.042534  0.955058\n",
       "589     Terminator 2: Judgment Day (1991)          52244.0  3.931954  0.903087\n",
       "2571    Matrix, The (1999)                         51334.0  4.187186  0.887929\n",
       "527     Schindler's List (1993)                    50054.0  4.310175  0.825421"
      ]
     },
     "execution_count": 148,
     "metadata": {},
     "output_type": "execute_result"
    }
   ],
   "source": [
    "movie_stats.sort_values('size', ascending=False).head(10)"
   ]
  },
  {
   "cell_type": "markdown",
   "metadata": {},
   "source": [
    "## Global Mean of All Ratings"
   ]
  },
  {
   "cell_type": "code",
   "execution_count": 161,
   "metadata": {
    "collapsed": false
   },
   "outputs": [
    {
     "name": "stdout",
     "output_type": "stream",
     "text": [
      "Golbal Mean of ALL Ratings: 3.5255285643\n"
     ]
    }
   ],
   "source": [
    "timestamps = ratings[['date','rating']]\n",
    "timestamps.set_index('date',inplace=True)\n",
    "print(\"Golbal Mean of ALL Ratings: \"+str(timestamps['rating'].mean()))"
   ]
  },
  {
   "cell_type": "markdown",
   "metadata": {},
   "source": [
    "## How Ratings Change Through Time"
   ]
  },
  {
   "cell_type": "code",
   "execution_count": 188,
   "metadata": {
    "collapsed": false
   },
   "outputs": [
    {
     "data": {
      "image/png": "[encoded data removed]",
      "text/plain": [
       "<matplotlib.figure.Figure at 0x7f215f613450>"
      ]
     },
     "metadata": {},
     "output_type": "display_data"
    }
   ],
   "source": [
    "timestamps['rating'].sample(500000).sort_index().rolling(window=10000,center=False).mean().plot(figsize=(16,8));"
   ]
  },
  {
   "cell_type": "markdown",
   "metadata": {},
   "source": [
    "## Variability of moves trhough time"
   ]
  },
  {
   "cell_type": "code",
   "execution_count": 186,
   "metadata": {
    "collapsed": false
   },
   "outputs": [
    {
     "data": {
      "image/png": "[encoded data removed]",
      "text/plain": [
       "<matplotlib.figure.Figure at 0x7f2162eacc90>"
      ]
     },
     "metadata": {},
     "output_type": "display_data"
    }
   ],
   "source": [
    "ax = timestamps['rating'].sample(500000).sort_index().rolling(window=100000,center=False).std().plot(figsize=(16,8));\n",
    "ax.set_ylabel('Variability std');\n",
    "ax.set_xlabel('Year');\n",
    "ax.set_title('Variability of Movies');"
   ]
  },
  {
   "cell_type": "markdown",
   "metadata": {},
   "source": [
    "## Ratings of The Shawshank Redemption through time"
   ]
  },
  {
   "cell_type": "code",
   "execution_count": 185,
   "metadata": {
    "collapsed": false
   },
   "outputs": [
    {
     "data": {
      "image/png": "[encoded data removed]",
      "text/plain": [
       "<matplotlib.figure.Figure at 0x7f2162ed8850>"
      ]
     },
     "metadata": {},
     "output_type": "display_data"
    }
   ],
   "source": [
    "ratings.loc[ratings.movieId == 318,['date','rating']].set_index('date').sort_index().\\\n",
    "    rolling(window=10000,center=False).mean().plot(figsize=(16,8));"
   ]
  },
  {
   "cell_type": "markdown",
   "metadata": {},
   "source": [
    "## Number of Ratings per Year"
   ]
  },
  {
   "cell_type": "code",
   "execution_count": 202,
   "metadata": {
    "collapsed": false
   },
   "outputs": [
    {
     "data": {
      "image/png": "[encoded data removed]",
      "text/plain": [
       "<matplotlib.figure.Figure at 0x7f2160750850>"
      ]
     },
     "metadata": {},
     "output_type": "display_data"
    }
   ],
   "source": [
    "ratings['year'] = pd.DatetimeIndex(ratings['date']).year\n",
    "ratings[['year','rating']].groupby('year').agg([np.size]).plot(kind='bar',figsize=(16,8));"
   ]
  },
  {
   "cell_type": "markdown",
   "metadata": {},
   "source": [
    "## Histogram of number of reviews per user"
   ]
  },
  {
   "cell_type": "code",
   "execution_count": 208,
   "metadata": {
    "collapsed": false
   },
   "outputs": [
    {
     "data": {
      "image/png": "[encoded data removed]",
      "text/plain": [
       "<matplotlib.figure.Figure at 0x7f215f5d6590>"
      ]
     },
     "metadata": {},
     "output_type": "display_data"
    }
   ],
   "source": [
    "ratings[['userId','rating']].groupby('userId').agg([np.size]).hist(bins=100,figsize=(16,8));"
   ]
  },
  {
   "cell_type": "markdown",
   "metadata": {},
   "source": [
    "## Histogram of number of reviews per movie"
   ]
  },
  {
   "cell_type": "code",
   "execution_count": 209,
   "metadata": {
    "collapsed": false
   },
   "outputs": [
    {
     "data": {
      "image/png": "[encoded data removed]",
      "text/plain": [
       "<matplotlib.figure.Figure at 0x7f21634dbe50>"
      ]
     },
     "metadata": {},
     "output_type": "display_data"
    }
   ],
   "source": [
    "ratings[['movieId','rating']].groupby('movieId').agg([np.size]).hist(bins=100,figsize=(16,8));"
   ]
  },
  {
   "cell_type": "code",
   "execution_count": null,
   "metadata": {
    "collapsed": true
   },
   "outputs": [],
   "source": []
  }
 ],
 "metadata": {
  "kernelspec": {
   "display_name": "Python 2",
   "language": "python",
   "name": "python2"
  },
  "language_info": {
   "codemirror_mode": {
    "name": "ipython",
    "version": 2
   },
   "file_extension": ".py",
   "mimetype": "text/x-python",
   "name": "python",
   "nbconvert_exporter": "python",
   "pygments_lexer": "ipython2",
   "version": "2.7.12"
  }
 },
 "nbformat": 4,
 "nbformat_minor": 1
}
